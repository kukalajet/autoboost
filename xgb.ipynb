{
 "cells": [
  {
   "cell_type": "code",
   "execution_count": 58,
   "metadata": {},
   "outputs": [],
   "source": [
    "import os\n",
    "import pandas as pd\n",
    "from sklearn.preprocessing import LabelEncoder, OrdinalEncoder"
   ]
  },
  {
   "cell_type": "code",
   "execution_count": 59,
   "metadata": {},
   "outputs": [],
   "source": [
    "train_filename = \"binary_classification.csv\"\n",
    "output = \"output\"\n",
    "test_filename = None\n",
    "task = None\n",
    "idx = None\n",
    "targets = [\"income\"]\n",
    "features = None\n",
    "categorical_features = None\n",
    "use_gpu = False\n",
    "num_folds = 5\n",
    "seed = 42\n",
    "num_trials = 100\n",
    "time_limit = 360\n",
    "fast = False"
   ]
  },
  {
   "cell_type": "code",
   "execution_count": 60,
   "metadata": {},
   "outputs": [
    {
     "name": "stdout",
     "output_type": "stream",
     "text": [
      "No id column specified. Will default to `id`.\n"
     ]
    }
   ],
   "source": [
    "# __post_init__\n",
    "\n",
    "# self.output\n",
    "# self.targets\n",
    "# self.idx\n",
    "\n",
    "# if os.path.exists(output):\n",
    "#   raise Exception(\n",
    "#       \"Output directory already exists. Please specify some other directory.\")\n",
    "\n",
    "os.makedirs(output, exist_ok=True)\n",
    "\n",
    "if targets is None:\n",
    "  print(\"No target columns specified. Will default to `target`.\")\n",
    "  targets = [\"target\"]\n",
    "\n",
    "if idx is None:\n",
    "  print(\"No id column specified. Will default to `id`.\")\n",
    "  idx = \"id\""
   ]
  },
  {
   "cell_type": "code",
   "execution_count": 61,
   "metadata": {},
   "outputs": [],
   "source": [
    "import enum\n",
    "\n",
    "class Task(enum.Enum):\n",
    "    classification = 0\n",
    "    regression = 1\n",
    "\n",
    "    @staticmethod\n",
    "    def from_str(task_type: str):\n",
    "        if task_type == \"classification\":\n",
    "            return Task.classification\n",
    "        elif task_type == \"regression\":\n",
    "            return Task.regression\n",
    "        else:\n",
    "            raise ValueError(\"Invalid task type: {}\".format(task_type))\n",
    "\n",
    "    @staticmethod\n",
    "    def list_str():\n",
    "        return [\"classification\", \"regression\"]\n",
    "\n",
    "class Problem(enum.IntEnum):\n",
    "    binary_classification = 1\n",
    "    multi_class_classification = 2\n",
    "    multi_label_classification = 3\n",
    "    single_column_regression = 4\n",
    "    multi_column_regression = 5\n",
    "\n",
    "    @staticmethod\n",
    "    def from_str(label):\n",
    "        if label == \"binary_classification\":\n",
    "            return Problem.binary_classification\n",
    "        elif label == \"multi_class_classification\":\n",
    "            return Problem.multi_class_classification\n",
    "        elif label == \"multi_label_classification\":\n",
    "            return Problem.multi_label_classification\n",
    "        elif label == \"single_column_regression\":\n",
    "            return Problem.single_column_regression\n",
    "        elif label == \"multi_column_regression\":\n",
    "            return Problem.multi_column_regression\n",
    "        else:\n",
    "            raise NotImplementedError\n"
   ]
  },
  {
   "cell_type": "code",
   "execution_count": 62,
   "metadata": {},
   "outputs": [],
   "source": [
    "from typing import List, Optional\n",
    "from pydantic import BaseModel\n",
    "\n",
    "class ModelConfig(BaseModel):\n",
    "    train_filename: str\n",
    "    test_filename: Optional[str] = None\n",
    "    idx: str\n",
    "    targets: List[str]\n",
    "    problem_type: Problem\n",
    "    output: str\n",
    "    features: List[str]\n",
    "    num_folds: int\n",
    "    use_gpu: bool\n",
    "    seed: int\n",
    "    categorical_features: List[str]\n",
    "    num_trials: int\n",
    "    time_limit: Optional[int] = None\n",
    "    fast: bool"
   ]
  },
  {
   "cell_type": "code",
   "execution_count": 63,
   "metadata": {},
   "outputs": [],
   "source": [
    "from sklearn.utils.multiclass import type_of_target\n",
    "import numpy as np\n",
    "\n",
    "# self.task\n",
    "# self.targets\n",
    "def _determine_problem(df: pd.DataFrame) -> Problem:\n",
    "  values = df[targets].values\n",
    "  if task is None:\n",
    "    target_type = type_of_target(values)\n",
    "    \n",
    "    if target_type == \"continuous\":\n",
    "      problem = Problem.single_column_regression\n",
    "    elif target_type == \"continuous-multioutput\":\n",
    "      problem = Problem.multi_column_regression\n",
    "    elif target_type == \"binary\":\n",
    "      problem = Problem.binary_classification\n",
    "    elif target_type == \"multiclass\":\n",
    "      problem = Problem.multi_class_classification\n",
    "    elif target_type == \"multilabel-indicator\":\n",
    "      problem = Problem.multi_label_classification\n",
    "    else:\n",
    "      raise Exception(\"Unable to infer `problem_type`. Please provide `classification` or `regression`\")\n",
    "\n",
    "    return problem\n",
    "\n",
    "  if task == \"classification\":\n",
    "    if len(targets) == 1:\n",
    "      if (len(np.unique(values)) == 2):\n",
    "        problem = Problem.binary_classification\n",
    "      else:\n",
    "        problem = Problem.multi_label_classification\n",
    "    else:\n",
    "      problem = Problem.multi_label_classification\n",
    "  \n",
    "  elif task == \"regression\":\n",
    "    if len(targets) == 1:\n",
    "      problem = Problem.single_column_regression\n",
    "    else:\n",
    "      problem = Problem.multi_column_regression\n",
    "  else:\n",
    "    raise Exception(\"Problem type not understood\")\n",
    "\n",
    "  return problem\n"
   ]
  },
  {
   "cell_type": "code",
   "execution_count": 64,
   "metadata": {},
   "outputs": [],
   "source": [
    "# self.idx\n",
    "# what if `idx` is `None`?\n",
    "def _inject_idxumn(df: pd.DataFrame) -> pd.DataFrame:\n",
    "  if idx not in df.columns:\n",
    "    df[idx] = np.arange(len(df))\n",
    "  \n",
    "  return df"
   ]
  },
  {
   "cell_type": "code",
   "execution_count": 65,
   "metadata": {},
   "outputs": [],
   "source": [
    "# self.num_folds\n",
    "# self.targets\n",
    "# self.seed\n",
    "from sklearn.model_selection import KFold, StratifiedKFold\n",
    "\n",
    "def _create_folds(train_df: pd.DataFrame, problem: Problem) -> pd.DataFrame:\n",
    "  # in which case could we have `kfold` in our dataset?\n",
    "  # `UnboundLocalError: local variable 'num_folds' referenced before assignment`\n",
    "  # it should work correctly. remove comments when moving code to files.\n",
    "  # if \"kfold\" in train_df.columns:\n",
    "  #   num_folds = len(np.unique(train_df[\"kfold\"]))\n",
    "  #   return train_df\n",
    "\n",
    "  train_df[\"kfold\"] = -1\n",
    "  if problem in (Problem.binary_classification, Problem.multi_class_classification):\n",
    "    y = train_df[targets].values\n",
    "    kf = StratifiedKFold(n_splits=num_folds, shuffle=True, random_state=seed)\n",
    "    for fold, (_, valid_indices) in enumerate(kf.split(X=train_df, y=y)):\n",
    "      train_df.loc[valid_indices, \"kfold\"] = fold\n",
    "  elif problem == Problem.single_column_regression:\n",
    "    num_bins = int(np.floor(1 + np.log2(len(train_df))))\n",
    "    if num_bins > 10:\n",
    "      num_bins = 10\n",
    "    kf = StratifiedKFold(n_splits=num_folds, shuffle=True, random_state=seed)\n",
    "    train_df[\"bins\"] = pd.cut(train_df[targets].values.ravel(), bins=num_bins, labels=False)\n",
    "    for fold, (_, valid_indices) in enumerate(kf.split(X=train_df, y=y)):\n",
    "      train_df.loc[valid_indices, \"kfold\"] = fold\n",
    "    train_df = train_df.drop(\"bins\", axis=1)\n",
    "  elif problem == Problem.multi_column_regression:\n",
    "    y = train_df[targets].values\n",
    "    kf = KFold(n_splits=num_folds, shuffle=True, random_state=seed)\n",
    "    for fold, (_, valid_indices) in enumerate(kf.split(X=train_df, y=y)):\n",
    "      train_df.loc[valid_indices, \"kfold\"] = fold\n",
    "  elif problem == Problem.multi_label_classification: # TODO: use `iterstrat`\n",
    "    y = train_df[targets].values\n",
    "    kf = KFold(n_splits=num_folds, shuffle=True, random_state=seed)\n",
    "    for fold, (_, valid_indices) in enumerate(kf.split(X=train_df, y=y)):\n",
    "      train_df.loc[valid_indices, \"kfold\"] = fold\n",
    "  else:\n",
    "    raise Exception(\"Problem type not supported\")\n",
    "  \n",
    "  return train_df"
   ]
  },
  {
   "cell_type": "code",
   "execution_count": 66,
   "metadata": {},
   "outputs": [],
   "source": [
    "# self.train_filename\n",
    "# self.test_filename\n",
    "\n",
    "# START: _process_data\n",
    "\n",
    "train_df = pd.read_csv(train_filename)\n",
    "# TODO: use `reduce_memory_usage` here\n",
    "\n",
    "problem = _determine_problem(train_df)\n",
    "train_df = _inject_idxumn(train_df)\n",
    "\n",
    "if test_filename is not None:\n",
    "  test_df = pd.read_csv(test_filename)\n",
    "  # TODO: use `reduce_memory_usage` here\n",
    "  test_df = _inject_idxumn(train_df)"
   ]
  },
  {
   "cell_type": "code",
   "execution_count": 67,
   "metadata": {},
   "outputs": [],
   "source": [
    "# self.idx\n",
    "# self.targets\n",
    "\n",
    "train_df = _create_folds(train_df, problem)\n",
    "ignore_columns = [idx, \"kfold\"] + targets"
   ]
  },
  {
   "cell_type": "code",
   "execution_count": 68,
   "metadata": {},
   "outputs": [],
   "source": [
    "# self.features\n",
    "\n",
    "if features is None:\n",
    "  features = list(train_df.columns)\n",
    "  features = [x for x in features if x not in ignore_columns]"
   ]
  },
  {
   "cell_type": "code",
   "execution_count": 69,
   "metadata": {},
   "outputs": [],
   "source": [
    "if problem in [Problem.binary_classification, Problem.multi_class_classification]:\n",
    "  target_encoder = LabelEncoder()\n",
    "  target_values = train_df[targets].values\n",
    "  target_encoder.fit(target_values.reshape(-1))\n",
    "  train_df.loc[:, targets] = target_encoder.transform(\n",
    "      target_values.reshape(-1))\n",
    "else:\n",
    "  target_encoder = None"
   ]
  },
  {
   "cell_type": "code",
   "execution_count": 70,
   "metadata": {},
   "outputs": [],
   "source": [
    "# self.features\n",
    "# self.categorical_features\n",
    "\n",
    "if categorical_features is None:\n",
    "  categorical_features = []\n",
    "  for feature in features:\n",
    "    if train_df[feature].dtype == \"object\":\n",
    "      categorical_features.append(feature)"
   ]
  },
  {
   "cell_type": "code",
   "execution_count": 71,
   "metadata": {},
   "outputs": [
    {
     "name": "stdout",
     "output_type": "stream",
     "text": [
      "Encoding categorical features\n"
     ]
    }
   ],
   "source": [
    "# self.categorical_features\n",
    "# self.num_folds\n",
    "# self.test_filename\n",
    "# self.output\n",
    "\n",
    "if len(categorical_features) > 0:\n",
    "  print(\"Encoding categorical features\")\n",
    "\n",
    "categorical_encoders = {}\n",
    "for fold in range(num_folds):\n",
    "  fold_train = train_df[train_df.kfold != fold].reset_index(drop=True)\n",
    "  fold_valid = train_df[train_df.kfold == fold].reset_index(drop=True)\n",
    "\n",
    "  if test_filename is not None:\n",
    "    test_fold = test_df.copy(deep=True)\n",
    "\n",
    "  if len(categorical_features) > 0:\n",
    "    ordinal_encoder = OrdinalEncoder(\n",
    "        handle_unknown=\"use_encoded_value\", unknown_value=np.nan)\n",
    "    fold_train[categorical_features] = ordinal_encoder.fit_transform(\n",
    "        fold_train[categorical_features].values)\n",
    "    fold_valid[categorical_features] = ordinal_encoder.transform(\n",
    "        fold_valid[categorical_features].values)\n",
    "    if test_filename is not None:\n",
    "      test_fold[categorical_features] = ordinal_encoder.transform(\n",
    "          test_fold[categorical_features].values)\n",
    "    categorical_encoders[fold] = ordinal_encoder\n",
    "\n",
    "  # WHAT'S A FCKING FEATHER? look at `to_feather`\n",
    "  fold_train.to_feather(os.path.join(output, f\"train_fold_{fold}.feather\"))\n",
    "  fold_valid.to_feather(os.path.join(output, f\"valid_fold_{fold}.feather\"))\n",
    "  if test_filename is not None:\n",
    "    test_fold.to_feather(os.path.join(output, f\"test_fold_{fold}.feather\"))"
   ]
  },
  {
   "cell_type": "code",
   "execution_count": 72,
   "metadata": {},
   "outputs": [],
   "source": [
    "# save configs\n",
    "model_config = {}\n",
    "model_config[\"idx\"] = idx  # self\n",
    "model_config[\"features\"] = features  # self\n",
    "model_config[\"categorical_features\"] = categorical_features\n",
    "model_config[\"train_filename\"] = train_filename  # self\n",
    "model_config[\"test_filename\"] = test_filename  # self\n",
    "model_config[\"output\"] = output  # self\n",
    "model_config[\"problem_type\"] = problem\n",
    "model_config[\"idx\"] = idx  # self\n",
    "model_config[\"targets\"] = targets  # self\n",
    "model_config[\"use_gpu\"] = use_gpu  # self\n",
    "model_config[\"num_folds\"] = num_folds  # self\n",
    "model_config[\"seed\"] = seed  # self\n",
    "model_config[\"num_trials\"] = num_trials  # self\n",
    "model_config[\"time_limit\"] = time_limit  # self\n",
    "model_config[\"fast\"] = fast  # self\n"
   ]
  },
  {
   "cell_type": "code",
   "execution_count": 73,
   "metadata": {},
   "outputs": [
    {
     "name": "stdout",
     "output_type": "stream",
     "text": [
      "Model config: train_filename='binary_classification.csv' test_filename=None idx='id' targets=['income'] problem_type=<Problem.binary_classification: 1> output='output' features=['age', 'workclass', 'fnlwgt', 'education', 'education.num', 'marital.status', 'occupation', 'relationship', 'race', 'sex', 'capital.gain', 'capital.loss', 'hours.per.week', 'native.country'] num_folds=5 use_gpu=False seed=42 categorical_features=['workclass', 'education', 'marital.status', 'occupation', 'relationship', 'race', 'sex', 'native.country'] num_trials=100 time_limit=360 fast=False\n",
      "Saving model config\n"
     ]
    },
    {
     "data": {
      "text/plain": [
       "['output/axgb.config']"
      ]
     },
     "execution_count": 73,
     "metadata": {},
     "output_type": "execute_result"
    }
   ],
   "source": [
    "import joblib\n",
    "\n",
    "model_config = ModelConfig(**model_config)\n",
    "print(f\"Model config: {model_config}\")\n",
    "print(\"Saving model config\")\n",
    "joblib.dump(model_config, f\"{output}/axgb.config\")"
   ]
  },
  {
   "cell_type": "code",
   "execution_count": 74,
   "metadata": {},
   "outputs": [
    {
     "name": "stdout",
     "output_type": "stream",
     "text": [
      "Saving encoders\n"
     ]
    },
    {
     "data": {
      "text/plain": [
       "['output/axgb.target_encoder']"
      ]
     },
     "execution_count": 74,
     "metadata": {},
     "output_type": "execute_result"
    }
   ],
   "source": [
    "print(\"Saving encoders\")\n",
    "joblib.dump(categorical_encoders,\n",
    "            f\"{output}/axgb.categorical_encoders\")\n",
    "joblib.dump(target_encoder, f\"{output}/axgb.target_encoder\")\n",
    "\n",
    "# END: _process_data\n"
   ]
  }
 ],
 "metadata": {
  "kernelspec": {
   "display_name": "boost",
   "language": "python",
   "name": "python3"
  },
  "language_info": {
   "codemirror_mode": {
    "name": "ipython",
    "version": 3
   },
   "file_extension": ".py",
   "mimetype": "text/x-python",
   "name": "python",
   "nbconvert_exporter": "python",
   "pygments_lexer": "ipython3",
   "version": "3.10.8"
  },
  "orig_nbformat": 4,
  "vscode": {
   "interpreter": {
    "hash": "d1ef381ed5e3bd237d5cc3dea30af8018e506ac9a700f35cc38adabbb691cad3"
   }
  }
 },
 "nbformat": 4,
 "nbformat_minor": 2
}
